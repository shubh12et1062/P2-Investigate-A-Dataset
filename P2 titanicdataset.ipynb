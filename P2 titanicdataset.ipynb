{
 "cells": [
  {
   "cell_type": "code",
   "execution_count": 1,
   "metadata": {
    "collapsed": false
   },
   "outputs": [
    {
     "data": {
      "text/html": [
       "<img src=\"https://i.ytimg.com/vi/lwfIYwl-lT8/maxresdefault.jpg\"/>"
      ],
      "text/plain": [
       "<IPython.core.display.Image object>"
      ]
     },
     "execution_count": 1,
     "metadata": {},
     "output_type": "execute_result"
    }
   ],
   "source": [
    "from IPython.display import Image\n",
    "Image(url=\"https://i.ytimg.com/vi/lwfIYwl-lT8/maxresdefault.jpg\")"
   ]
  },
  {
   "cell_type": "markdown",
   "metadata": {},
   "source": [
    "# Description Of The Dataset¶\n"
   ]
  },
  {
   "cell_type": "markdown",
   "metadata": {},
   "source": [
    "**VARIABLE DESCRIPTIONS: survival - Survival (0 = No; 1 = Yes) pclass - Passenger Class (1 = 1st; 2 = 2nd; 3 = 3rd) name - Name sex - Sex age - Age sibsp - Number of Siblings/Spouses Aboard parch - Number of Parents/Children Aboard ticket - Ticket Number fare - Passenger Fare cabin - Cabin embarked - Port of Embarkation (C = Cherbourg; Q = Queenstown; S = Southampton)**  \n",
    "\n",
    "**Pclass is a proxy for socio-economic status (SES) 1st ~ Upper; 2nd ~ Middle; 3rd ~ Lower**  \n",
    "\n",
    "**With respect to the family relation variables (i.e. sibsp and parch) some relations were ignored. The following are the definitions used for sibsp and parch.**  \n",
    "\n",
    "**Sibling : Brother, Sister, Stepbrother, or Stepsister of Passenger Aboard Titanic Spouse : Husband or Wife of Passenger Aboard   Titanic (Mistresses and Fiances Ignored) Parent : Mother or Father of Passenger Aboard Titanic Child : Son, Daughter, Stepson, or Stepdaughter of Passenger Aboard Titanic**"
   ]
  },
  {
   "cell_type": "markdown",
   "metadata": {},
   "source": [
    "# The questions we have\n",
    "**What questions would you have if you were a journalist a you just got the date about the passengers on the titanic?  \n",
    "Who were the people on board?  \n",
    "Who survived?  \n",
    "Who did not survive and why?  \n",
    "What are the survival rates for men, woman and children?  \n",
    "Is our assumption that more rich people survived correct or not?  \n",
    "And of course: can we predict who survived?**\n"
   ]
  },
  {
   "cell_type": "markdown",
   "metadata": {},
   "source": [
    "# Wrangling Phase"
   ]
  },
  {
   "cell_type": "markdown",
   "metadata": {},
   "source": [
    "**(i) Data Acquisition**"
   ]
  },
  {
   "cell_type": "code",
   "execution_count": 2,
   "metadata": {
    "collapsed": false
   },
   "outputs": [],
   "source": [
    "import matplotlib.pyplot as plt\n",
    "import numpy as np\n",
    "import pandas as pd\n",
    "import seaborn as sns\n",
    "sns.set(style=\"whitegrid\")\n",
    "%matplotlib inline"
   ]
  },
  {
   "cell_type": "code",
   "execution_count": 3,
   "metadata": {
    "collapsed": false
   },
   "outputs": [],
   "source": [
    "passengerinfo = pd.read_csv('titanic-data.csv')"
   ]
  },
  {
   "cell_type": "code",
   "execution_count": 4,
   "metadata": {
    "collapsed": false
   },
   "outputs": [
    {
     "data": {
      "text/html": [
       "<div>\n",
       "<table border=\"1\" class=\"dataframe\">\n",
       "  <thead>\n",
       "    <tr style=\"text-align: right;\">\n",
       "      <th></th>\n",
       "      <th>PassengerId</th>\n",
       "      <th>Survived</th>\n",
       "      <th>Pclass</th>\n",
       "      <th>Name</th>\n",
       "      <th>Sex</th>\n",
       "      <th>Age</th>\n",
       "      <th>SibSp</th>\n",
       "      <th>Parch</th>\n",
       "      <th>Ticket</th>\n",
       "      <th>Fare</th>\n",
       "      <th>Cabin</th>\n",
       "      <th>Embarked</th>\n",
       "    </tr>\n",
       "  </thead>\n",
       "  <tbody>\n",
       "    <tr>\n",
       "      <th>0</th>\n",
       "      <td>1</td>\n",
       "      <td>0</td>\n",
       "      <td>3</td>\n",
       "      <td>Braund, Mr. Owen Harris</td>\n",
       "      <td>male</td>\n",
       "      <td>22.0</td>\n",
       "      <td>1</td>\n",
       "      <td>0</td>\n",
       "      <td>A/5 21171</td>\n",
       "      <td>7.2500</td>\n",
       "      <td>NaN</td>\n",
       "      <td>S</td>\n",
       "    </tr>\n",
       "    <tr>\n",
       "      <th>1</th>\n",
       "      <td>2</td>\n",
       "      <td>1</td>\n",
       "      <td>1</td>\n",
       "      <td>Cumings, Mrs. John Bradley (Florence Briggs Th...</td>\n",
       "      <td>female</td>\n",
       "      <td>38.0</td>\n",
       "      <td>1</td>\n",
       "      <td>0</td>\n",
       "      <td>PC 17599</td>\n",
       "      <td>71.2833</td>\n",
       "      <td>C85</td>\n",
       "      <td>C</td>\n",
       "    </tr>\n",
       "    <tr>\n",
       "      <th>2</th>\n",
       "      <td>3</td>\n",
       "      <td>1</td>\n",
       "      <td>3</td>\n",
       "      <td>Heikkinen, Miss. Laina</td>\n",
       "      <td>female</td>\n",
       "      <td>26.0</td>\n",
       "      <td>0</td>\n",
       "      <td>0</td>\n",
       "      <td>STON/O2. 3101282</td>\n",
       "      <td>7.9250</td>\n",
       "      <td>NaN</td>\n",
       "      <td>S</td>\n",
       "    </tr>\n",
       "    <tr>\n",
       "      <th>3</th>\n",
       "      <td>4</td>\n",
       "      <td>1</td>\n",
       "      <td>1</td>\n",
       "      <td>Futrelle, Mrs. Jacques Heath (Lily May Peel)</td>\n",
       "      <td>female</td>\n",
       "      <td>35.0</td>\n",
       "      <td>1</td>\n",
       "      <td>0</td>\n",
       "      <td>113803</td>\n",
       "      <td>53.1000</td>\n",
       "      <td>C123</td>\n",
       "      <td>S</td>\n",
       "    </tr>\n",
       "    <tr>\n",
       "      <th>4</th>\n",
       "      <td>5</td>\n",
       "      <td>0</td>\n",
       "      <td>3</td>\n",
       "      <td>Allen, Mr. William Henry</td>\n",
       "      <td>male</td>\n",
       "      <td>35.0</td>\n",
       "      <td>0</td>\n",
       "      <td>0</td>\n",
       "      <td>373450</td>\n",
       "      <td>8.0500</td>\n",
       "      <td>NaN</td>\n",
       "      <td>S</td>\n",
       "    </tr>\n",
       "  </tbody>\n",
       "</table>\n",
       "</div>"
      ],
      "text/plain": [
       "   PassengerId  Survived  Pclass  \\\n",
       "0            1         0       3   \n",
       "1            2         1       1   \n",
       "2            3         1       3   \n",
       "3            4         1       1   \n",
       "4            5         0       3   \n",
       "\n",
       "                                                Name     Sex   Age  SibSp  \\\n",
       "0                            Braund, Mr. Owen Harris    male  22.0      1   \n",
       "1  Cumings, Mrs. John Bradley (Florence Briggs Th...  female  38.0      1   \n",
       "2                             Heikkinen, Miss. Laina  female  26.0      0   \n",
       "3       Futrelle, Mrs. Jacques Heath (Lily May Peel)  female  35.0      1   \n",
       "4                           Allen, Mr. William Henry    male  35.0      0   \n",
       "\n",
       "   Parch            Ticket     Fare Cabin Embarked  \n",
       "0      0         A/5 21171   7.2500   NaN        S  \n",
       "1      0          PC 17599  71.2833   C85        C  \n",
       "2      0  STON/O2. 3101282   7.9250   NaN        S  \n",
       "3      0            113803  53.1000  C123        S  \n",
       "4      0            373450   8.0500   NaN        S  "
      ]
     },
     "execution_count": 4,
     "metadata": {},
     "output_type": "execute_result"
    }
   ],
   "source": [
    "passengerinfo.head()\n"
   ]
  },
  {
   "cell_type": "code",
   "execution_count": 5,
   "metadata": {
    "collapsed": true
   },
   "outputs": [],
   "source": [
    "#Finding the total passengers on board\n",
    "total_passenger = len(passengerinfo.PassengerId)"
   ]
  },
  {
   "cell_type": "markdown",
   "metadata": {},
   "source": [
    "**(ii)Data Cleaning**"
   ]
  },
  {
   "cell_type": "code",
   "execution_count": 6,
   "metadata": {
    "collapsed": false
   },
   "outputs": [
    {
     "data": {
      "text/html": [
       "<div>\n",
       "<table border=\"1\" class=\"dataframe\">\n",
       "  <thead>\n",
       "    <tr style=\"text-align: right;\">\n",
       "      <th></th>\n",
       "      <th>PassengerId</th>\n",
       "      <th>Survived</th>\n",
       "      <th>Pclass</th>\n",
       "      <th>Name</th>\n",
       "      <th>Sex</th>\n",
       "      <th>Age</th>\n",
       "      <th>SibSp</th>\n",
       "      <th>Parch</th>\n",
       "      <th>Ticket</th>\n",
       "      <th>Fare</th>\n",
       "      <th>Cabin</th>\n",
       "      <th>Embarked</th>\n",
       "    </tr>\n",
       "  </thead>\n",
       "  <tbody>\n",
       "    <tr>\n",
       "      <th>1</th>\n",
       "      <td>2</td>\n",
       "      <td>1</td>\n",
       "      <td>1</td>\n",
       "      <td>Cumings, Mrs. John Bradley (Florence Briggs Th...</td>\n",
       "      <td>female</td>\n",
       "      <td>38.0</td>\n",
       "      <td>1</td>\n",
       "      <td>0</td>\n",
       "      <td>PC 17599</td>\n",
       "      <td>71.2833</td>\n",
       "      <td>C85</td>\n",
       "      <td>C</td>\n",
       "    </tr>\n",
       "    <tr>\n",
       "      <th>3</th>\n",
       "      <td>4</td>\n",
       "      <td>1</td>\n",
       "      <td>1</td>\n",
       "      <td>Futrelle, Mrs. Jacques Heath (Lily May Peel)</td>\n",
       "      <td>female</td>\n",
       "      <td>35.0</td>\n",
       "      <td>1</td>\n",
       "      <td>0</td>\n",
       "      <td>113803</td>\n",
       "      <td>53.1000</td>\n",
       "      <td>C123</td>\n",
       "      <td>S</td>\n",
       "    </tr>\n",
       "    <tr>\n",
       "      <th>6</th>\n",
       "      <td>7</td>\n",
       "      <td>0</td>\n",
       "      <td>1</td>\n",
       "      <td>McCarthy, Mr. Timothy J</td>\n",
       "      <td>male</td>\n",
       "      <td>54.0</td>\n",
       "      <td>0</td>\n",
       "      <td>0</td>\n",
       "      <td>17463</td>\n",
       "      <td>51.8625</td>\n",
       "      <td>E46</td>\n",
       "      <td>S</td>\n",
       "    </tr>\n",
       "    <tr>\n",
       "      <th>10</th>\n",
       "      <td>11</td>\n",
       "      <td>1</td>\n",
       "      <td>3</td>\n",
       "      <td>Sandstrom, Miss. Marguerite Rut</td>\n",
       "      <td>female</td>\n",
       "      <td>4.0</td>\n",
       "      <td>1</td>\n",
       "      <td>1</td>\n",
       "      <td>PP 9549</td>\n",
       "      <td>16.7000</td>\n",
       "      <td>G6</td>\n",
       "      <td>S</td>\n",
       "    </tr>\n",
       "    <tr>\n",
       "      <th>11</th>\n",
       "      <td>12</td>\n",
       "      <td>1</td>\n",
       "      <td>1</td>\n",
       "      <td>Bonnell, Miss. Elizabeth</td>\n",
       "      <td>female</td>\n",
       "      <td>58.0</td>\n",
       "      <td>0</td>\n",
       "      <td>0</td>\n",
       "      <td>113783</td>\n",
       "      <td>26.5500</td>\n",
       "      <td>C103</td>\n",
       "      <td>S</td>\n",
       "    </tr>\n",
       "  </tbody>\n",
       "</table>\n",
       "</div>"
      ],
      "text/plain": [
       "    PassengerId  Survived  Pclass  \\\n",
       "1             2         1       1   \n",
       "3             4         1       1   \n",
       "6             7         0       1   \n",
       "10           11         1       3   \n",
       "11           12         1       1   \n",
       "\n",
       "                                                 Name     Sex   Age  SibSp  \\\n",
       "1   Cumings, Mrs. John Bradley (Florence Briggs Th...  female  38.0      1   \n",
       "3        Futrelle, Mrs. Jacques Heath (Lily May Peel)  female  35.0      1   \n",
       "6                             McCarthy, Mr. Timothy J    male  54.0      0   \n",
       "10                    Sandstrom, Miss. Marguerite Rut  female   4.0      1   \n",
       "11                           Bonnell, Miss. Elizabeth  female  58.0      0   \n",
       "\n",
       "    Parch    Ticket     Fare Cabin Embarked  \n",
       "1       0  PC 17599  71.2833   C85        C  \n",
       "3       0    113803  53.1000  C123        S  \n",
       "6       0     17463  51.8625   E46        S  \n",
       "10      1   PP 9549  16.7000    G6        S  \n",
       "11      0    113783  26.5500  C103        S  "
      ]
     },
     "execution_count": 6,
     "metadata": {},
     "output_type": "execute_result"
    }
   ],
   "source": [
    "passengerinfo.dropna().head()"
   ]
  },
  {
   "cell_type": "code",
   "execution_count": 7,
   "metadata": {
    "collapsed": false
   },
   "outputs": [
    {
     "data": {
      "text/plain": [
       "891"
      ]
     },
     "execution_count": 7,
     "metadata": {},
     "output_type": "execute_result"
    }
   ],
   "source": [
    "total_passenger \n"
   ]
  },
  {
   "cell_type": "code",
   "execution_count": 8,
   "metadata": {
    "collapsed": false
   },
   "outputs": [
    {
     "name": "stdout",
     "output_type": "stream",
     "text": [
      " Rows with missing data  = 708 \n",
      " % of missing Data  = 79.46 \n"
     ]
    }
   ],
   "source": [
    "#Finding the non missing rows\n",
    "nonmissingrows = len(passengerinfo.dropna())\n",
    "missingdatarows = total_passenger - nonmissingrows\n",
    "print ' {}  = {} '.format('Rows with missing data', missingdatarows)\n",
    "                          \n",
    "#Percentage of missing data\n",
    "percentmissing_data = 100 - len(passengerinfo.dropna()) * 1.0/total_passenger * 100       \n",
    "print ' {} = {} '.format('% of missing Data ',np.around(percentmissing_data,decimals = 2))                          "
   ]
  },
  {
   "cell_type": "code",
   "execution_count": 9,
   "metadata": {
    "collapsed": false
   },
   "outputs": [
    {
     "name": "stdout",
     "output_type": "stream",
     "text": [
      " No. of rows with missing cabin data  = 687\n",
      " No. of rows with missing age data = 177\n"
     ]
    }
   ],
   "source": [
    "#Find missing cabin data rows\n",
    "missing_cabin_data_rows = len(passengerinfo['Cabin']) - passengerinfo['Cabin'].count()\n",
    "print ' {} = {}'.format('No. of rows with missing cabin data ',missing_cabin_data_rows)\n",
    "\n",
    "#Find missing age data rows\n",
    "missing_age_data_rows = len(passengerinfo['Age']) - passengerinfo['Age'].count()\n",
    "print ' {} = {}'.format('No. of rows with missing age data',missing_age_data_rows)"
   ]
  },
  {
   "cell_type": "markdown",
   "metadata": {},
   "source": [
    "\n",
    "As 708/891 (i.e. close to 80%) of the rows contain some missing data, we cannot remove all of them. Moreover, most of this missing data is Cabin data of the passenger, so it won't affect critical analysis"
   ]
  },
  {
   "cell_type": "markdown",
   "metadata": {},
   "source": [
    "# Exploration Phase"
   ]
  },
  {
   "cell_type": "markdown",
   "metadata": {},
   "source": [
    "** General Statistics Of Data**"
   ]
  },
  {
   "cell_type": "code",
   "execution_count": 10,
   "metadata": {
    "collapsed": false
   },
   "outputs": [
    {
     "data": {
      "text/html": [
       "<div>\n",
       "<table border=\"1\" class=\"dataframe\">\n",
       "  <thead>\n",
       "    <tr style=\"text-align: right;\">\n",
       "      <th></th>\n",
       "      <th>PassengerId</th>\n",
       "      <th>Survived</th>\n",
       "      <th>Pclass</th>\n",
       "      <th>Age</th>\n",
       "      <th>SibSp</th>\n",
       "      <th>Parch</th>\n",
       "      <th>Fare</th>\n",
       "    </tr>\n",
       "  </thead>\n",
       "  <tbody>\n",
       "    <tr>\n",
       "      <th>count</th>\n",
       "      <td>891.000000</td>\n",
       "      <td>891.000000</td>\n",
       "      <td>891.000000</td>\n",
       "      <td>714.000000</td>\n",
       "      <td>891.000000</td>\n",
       "      <td>891.000000</td>\n",
       "      <td>891.000000</td>\n",
       "    </tr>\n",
       "    <tr>\n",
       "      <th>mean</th>\n",
       "      <td>446.000000</td>\n",
       "      <td>0.383838</td>\n",
       "      <td>2.308642</td>\n",
       "      <td>29.699118</td>\n",
       "      <td>0.523008</td>\n",
       "      <td>0.381594</td>\n",
       "      <td>32.204208</td>\n",
       "    </tr>\n",
       "    <tr>\n",
       "      <th>std</th>\n",
       "      <td>257.353842</td>\n",
       "      <td>0.486592</td>\n",
       "      <td>0.836071</td>\n",
       "      <td>14.526497</td>\n",
       "      <td>1.102743</td>\n",
       "      <td>0.806057</td>\n",
       "      <td>49.693429</td>\n",
       "    </tr>\n",
       "    <tr>\n",
       "      <th>min</th>\n",
       "      <td>1.000000</td>\n",
       "      <td>0.000000</td>\n",
       "      <td>1.000000</td>\n",
       "      <td>0.420000</td>\n",
       "      <td>0.000000</td>\n",
       "      <td>0.000000</td>\n",
       "      <td>0.000000</td>\n",
       "    </tr>\n",
       "    <tr>\n",
       "      <th>25%</th>\n",
       "      <td>223.500000</td>\n",
       "      <td>0.000000</td>\n",
       "      <td>2.000000</td>\n",
       "      <td>20.125000</td>\n",
       "      <td>0.000000</td>\n",
       "      <td>0.000000</td>\n",
       "      <td>7.910400</td>\n",
       "    </tr>\n",
       "    <tr>\n",
       "      <th>50%</th>\n",
       "      <td>446.000000</td>\n",
       "      <td>0.000000</td>\n",
       "      <td>3.000000</td>\n",
       "      <td>28.000000</td>\n",
       "      <td>0.000000</td>\n",
       "      <td>0.000000</td>\n",
       "      <td>14.454200</td>\n",
       "    </tr>\n",
       "    <tr>\n",
       "      <th>75%</th>\n",
       "      <td>668.500000</td>\n",
       "      <td>1.000000</td>\n",
       "      <td>3.000000</td>\n",
       "      <td>38.000000</td>\n",
       "      <td>1.000000</td>\n",
       "      <td>0.000000</td>\n",
       "      <td>31.000000</td>\n",
       "    </tr>\n",
       "    <tr>\n",
       "      <th>max</th>\n",
       "      <td>891.000000</td>\n",
       "      <td>1.000000</td>\n",
       "      <td>3.000000</td>\n",
       "      <td>80.000000</td>\n",
       "      <td>8.000000</td>\n",
       "      <td>6.000000</td>\n",
       "      <td>512.329200</td>\n",
       "    </tr>\n",
       "  </tbody>\n",
       "</table>\n",
       "</div>"
      ],
      "text/plain": [
       "       PassengerId    Survived      Pclass         Age       SibSp  \\\n",
       "count   891.000000  891.000000  891.000000  714.000000  891.000000   \n",
       "mean    446.000000    0.383838    2.308642   29.699118    0.523008   \n",
       "std     257.353842    0.486592    0.836071   14.526497    1.102743   \n",
       "min       1.000000    0.000000    1.000000    0.420000    0.000000   \n",
       "25%     223.500000    0.000000    2.000000   20.125000    0.000000   \n",
       "50%     446.000000    0.000000    3.000000   28.000000    0.000000   \n",
       "75%     668.500000    1.000000    3.000000   38.000000    1.000000   \n",
       "max     891.000000    1.000000    3.000000   80.000000    8.000000   \n",
       "\n",
       "            Parch        Fare  \n",
       "count  891.000000  891.000000  \n",
       "mean     0.381594   32.204208  \n",
       "std      0.806057   49.693429  \n",
       "min      0.000000    0.000000  \n",
       "25%      0.000000    7.910400  \n",
       "50%      0.000000   14.454200  \n",
       "75%      0.000000   31.000000  \n",
       "max      6.000000  512.329200  "
      ]
     },
     "execution_count": 10,
     "metadata": {},
     "output_type": "execute_result"
    }
   ],
   "source": [
    "passengerinfo.describe()"
   ]
  },
  {
   "cell_type": "markdown",
   "metadata": {},
   "source": [
    "From the above data, we can see:  \n",
    "  Max aged passenger = 80yrs.  \n",
    "  Min aged passenger = 0.42yrs.  \n",
    "  Avg age of passenger = 29.69 yrs.  \n",
    "  Max passenger fare =  $ 512.32.\n",
    "  Min passenger fare =  $ 0.00.\n",
    "  "
   ]
  },
  {
   "cell_type": "code",
   "execution_count": 11,
   "metadata": {
    "collapsed": false
   },
   "outputs": [
    {
     "data": {
      "text/plain": [
       "<seaborn.axisgrid.FacetGrid at 0xa1f6588>"
      ]
     },
     "execution_count": 11,
     "metadata": {},
     "output_type": "execute_result"
    },
    {
     "data": {
      "image/png": "[encoded data removed]",
      "text/plain": [
       "<matplotlib.figure.Figure at 0xa1f6fd0>"
      ]
     },
     "metadata": {},
     "output_type": "display_data"
    }
   ],
   "source": [
    "j=sns.FacetGrid(passengerinfo, hue=\"Pclass\", size=6)\n",
    "j.map(plt.scatter,\"Age\",\"Fare\")\n",
    "j.add_legend()"
   ]
  },
  {
   "cell_type": "code",
   "execution_count": 13,
   "metadata": {
    "collapsed": false
   },
   "outputs": [
    {
     "data": {
      "text/plain": [
       "<matplotlib.axes._subplots.AxesSubplot at 0xbd6d4a8>"
      ]
     },
     "execution_count": 13,
     "metadata": {},
     "output_type": "execute_result"
    },
    {
     "data": {
      "image/png": "[encoded data removed]",
      "text/plain": [
       "<matplotlib.figure.Figure at 0xbd41b70>"
      ]
     },
     "metadata": {},
     "output_type": "display_data"
    }
   ],
   "source": [
    "sns.boxplot(\"Pclass\",\"Fare\",data=passengerinfo)"
   ]
  },
  {
   "cell_type": "markdown",
   "metadata": {},
   "source": [
    "As we can see from the two previous graphs, the distribution of the fare is less spread for the class 2 and 3 than the class 1."
   ]
  },
  {
   "cell_type": "code",
   "execution_count": 11,
   "metadata": {
    "collapsed": true
   },
   "outputs": [],
   "source": [
    "#Defining a percentage function for calculating percentage\n",
    "def calculate_percentage(val, total, format_percent = False):\n",
    "    \"\"\"Calculates the percentage of a value over a total\"\"\"\n",
    "    percent = np.divide(val, total, dtype=float)\n",
    "    if format_percent:\n",
    "        percent = as_percent(percent)\n",
    "    return percent\n",
    "\n"
   ]
  },
  {
   "cell_type": "code",
   "execution_count": 12,
   "metadata": {
    "collapsed": false
   },
   "outputs": [
    {
     "name": "stdout",
     "output_type": "stream",
     "text": [
      " Number of female passenger: = 314\n",
      " Number of male passenger: = 577\n",
      "% female passenger = 35.24\n",
      "% male passenger = 64.76\n"
     ]
    }
   ],
   "source": [
    "#Find number of male and female passengers\n",
    "female_pass = (passengerinfo[passengerinfo['Sex'] == 'female'])\n",
    "print ' {} = {}'.format('Number of female passenger:',len(female_pass))\n",
    "male_pass = (passengerinfo[passengerinfo['Sex'] == 'male'])\n",
    "print ' {} = {}'.format('Number of male passenger:',len(male_pass))\n",
    "\n",
    "#Percentage of male and female passenger\n",
    "percent_female = calculate_percentage(len(female_pass),total_passenger)*100\n",
    "percent_male = calculate_percentage(len(male_pass),total_passenger)*100\n",
    "print '{} = {}'.format('% female passenger',np.around(percent_female,decimals = 2))\n",
    "print '{} = {}'.format('% male passenger',np.around(percent_male,decimals = 2))"
   ]
  },
  {
   "cell_type": "code",
   "execution_count": 13,
   "metadata": {
    "collapsed": false
   },
   "outputs": [
    {
     "data": {
      "text/plain": [
       "<matplotlib.text.Text at 0xa1359b0>"
      ]
     },
     "execution_count": 13,
     "metadata": {},
     "output_type": "execute_result"
    },
    {
     "data": {
      "image/png": "[encoded data removed]",
      "text/plain": [
       "<matplotlib.figure.Figure at 0xa1350f0>"
      ]
     },
     "metadata": {},
     "output_type": "display_data"
    }
   ],
   "source": [
    "pass_gender = passengerinfo.groupby('Sex')\n",
    "sex = pass_gender.size()\n",
    "my_plot = sex.plot(kind='barh', title=\"No. Of Male & Female Passengers\", figsize=(7, 3))\n",
    "my_plot.set_xlabel(\"No. Of Passengers\")"
   ]
  },
  {
   "cell_type": "markdown",
   "metadata": {},
   "source": [
    "Therefore, the no.of men (64.76%) on board Titanic far exceeded the no. of women (35.24%)."
   ]
  },
  {
   "cell_type": "markdown",
   "metadata": {},
   "source": [
    "# (1)What role did a passenger's gender play in his/her survival?"
   ]
  },
  {
   "cell_type": "code",
   "execution_count": 14,
   "metadata": {
    "collapsed": false
   },
   "outputs": [],
   "source": [
    "survivors = passengerinfo[passengerinfo['Survived'] == True]\n",
    "non_survivors=passengerinfo[passengerinfo['Survived'] == False]"
   ]
  },
  {
   "cell_type": "code",
   "execution_count": 15,
   "metadata": {
    "collapsed": false
   },
   "outputs": [
    {
     "data": {
      "text/plain": [
       "<matplotlib.text.Text at 0xbc0ad30>"
      ]
     },
     "execution_count": 15,
     "metadata": {},
     "output_type": "execute_result"
    },
    {
     "data": {
      "image/png": "[encoded data removed]",
      "text/plain": [
       "<matplotlib.figure.Figure at 0xba6d320>"
      ]
     },
     "metadata": {},
     "output_type": "display_data"
    }
   ],
   "source": [
    "survivors_gender = survivors.groupby(['Sex']).size().values\n",
    "non_survivors_gender = non_survivors.groupby(['Sex']).size().values\n",
    "# calculate totals for percentates\n",
    "totals = survivors_gender + non_survivors_gender\n",
    "\n",
    "# use calculate_percentage_function to calculate percentage of the total\n",
    "data1_percentages = calculate_percentage(survivors_gender, totals)*100 \n",
    "data2_percentages = calculate_percentage(non_survivors_gender, totals)*100 \n",
    "\n",
    "gender_categories = ['Female', 'Male']\n",
    "\n",
    "f, (ax1, ax2) = plt.subplots(1, 2, figsize=(10,5))\n",
    "# plot chart for count of survivors by class\n",
    "ax1.bar(range(len(survivors_gender)), survivors_gender, label='Survivors', alpha=0.5, color='g')\n",
    "ax1.bar(range(len(non_survivors_gender)), non_survivors_gender, bottom=survivors_gender, label='Non-Survivors', alpha=0.5, color='r')\n",
    "plt.sca(ax1)\n",
    "plt.xticks([0.4, 1.4], gender_categories )\n",
    "ax1.set_ylabel(\"Count\")\n",
    "ax1.set_xlabel(\"\")\n",
    "ax1.set_title(\"Count of survivors by gender\",fontsize=14)\n",
    "plt.legend(loc='upper left')\n",
    "\n",
    "# plot chart for percentage of survivors by class\n",
    "ax2.bar(range(len(data1_percentages)), data1_percentages, alpha=0.5, color='g')\n",
    "ax2.bar(range(len(data2_percentages)), data2_percentages, bottom=data1_percentages, alpha=0.5, color='r')\n",
    "plt.sca(ax2)\n",
    "plt.xticks([0.4, 1.4],  gender_categories)\n",
    "ax2.set_ylabel(\"Percentage\")\n",
    "ax2.set_xlabel(\"\")\n",
    "ax2.set_title(\"% of survivors by gender\",fontsize=14)\n"
   ]
  },
  {
   "cell_type": "markdown",
   "metadata": {},
   "source": [
    "From these stats, we can see that the no. of surviving males is far less than the no. of surviving females, regardless of the fact that the no. of males far exceeded the females in the first place. I think this was due to the fact that during the evacuation process of RMS Titanic, the women, children and elderly were the first to board the lifeboats, with any remaining free spaces for men. "
   ]
  },
  {
   "cell_type": "markdown",
   "metadata": {},
   "source": [
    "# (2)What role did a passenger's socio-economic class play in his/her survival?¶\n"
   ]
  },
  {
   "cell_type": "code",
   "execution_count": 16,
   "metadata": {
    "collapsed": false
   },
   "outputs": [
    {
     "name": "stdout",
     "output_type": "stream",
     "text": [
      "num_of_fclass = 216\n",
      "num_of_sclass = 184\n",
      "num_of_tclass = 491\n",
      "num_of_fclass_who_survived = 136\n",
      "num_of_sclass_who_survived = 87\n",
      "num_of_tclass_who_survived = 119\n",
      "num_of_fclass_who_dintsurvive  = 80\n",
      "num_of_sclass_who_dintsurvive = 97\n",
      "num_of_tclass_who_dintsurvive = 372\n",
      "percent_fclass_who_survived = 62.962962963\n",
      "percent_sclass_who_survived = 47.2826086957\n",
      "percent_tclass_who_survived = 24.2362525458\n"
     ]
    }
   ],
   "source": [
    "#Survival according to class\n",
    "\n",
    "#Number of passenger beloning to first,second and third class\n",
    "num_1class = len(passengerinfo[passengerinfo['Pclass'] == 1])\n",
    "num_2class = len(passengerinfo[passengerinfo['Pclass'] == 2])\n",
    "num_3class = len(passengerinfo[passengerinfo['Pclass'] == 3])\n",
    "\n",
    "#Number of passngers who survived belonging to first,second and third class\n",
    "num_1class_survived = len(passengerinfo[(passengerinfo['Pclass'] == 1) & (passengerinfo['Survived'] == True)])\n",
    "num_2class_survived = len(passengerinfo[(passengerinfo['Pclass'] == 2) & (passengerinfo['Survived'] == True)])\n",
    "num_3class_survived = len(passengerinfo[(passengerinfo['Pclass'] == 3) & (passengerinfo['Survived'] == True)])\n",
    "\n",
    "num_of_1class_who_didntsurvive= num_1class-num_1class_survived\n",
    "num_of_2class_who_didntsurvive= num_2class-num_2class_survived \n",
    "num_of_3class_who_didntsurvive= num_3class-num_3class_survived\n",
    "\n",
    "print '{} = {}'.format('num_of_fclass', num_1class)\n",
    "print '{} = {}'.format('num_of_sclass', num_2class)\n",
    "print '{} = {}'.format('num_of_tclass', num_3class)\n",
    "print '{} = {}'.format('num_of_fclass_who_survived', num_1class_survived)\n",
    "print '{} = {}'.format('num_of_sclass_who_survived', num_2class_survived)\n",
    "print '{} = {}'.format('num_of_tclass_who_survived', num_3class_survived)\n",
    "print '{} = {}'.format('num_of_fclass_who_dintsurvive ', num_of_1class_who_didntsurvive )\n",
    "print '{} = {}'.format('num_of_sclass_who_dintsurvive',  num_of_2class_who_didntsurvive)\n",
    "print '{} = {}'.format('num_of_tclass_who_dintsurvive', num_of_3class_who_didntsurvive)\n",
    "\n",
    "\n",
    "##Finding percentages of people belonging to the first, second, third class who did/did not survive\n",
    "\n",
    "percent_1class_who_survived = calculate_percentage(num_1class_survived,num_1class )*100\n",
    "percent_2class_who_survived = calculate_percentage(num_2class_survived,num_2class )*100\n",
    "percent_3class_who_survived = calculate_percentage(num_3class_survived,num_3class )*100\n",
    "\n",
    "print '{} = {}'.format('percent_fclass_who_survived', percent_1class_who_survived)\n",
    "print '{} = {}'.format('percent_sclass_who_survived', percent_2class_who_survived)\n",
    "print '{} = {}'.format('percent_tclass_who_survived', percent_3class_who_survived)\n"
   ]
  },
  {
   "cell_type": "code",
   "execution_count": 17,
   "metadata": {
    "collapsed": false
   },
   "outputs": [
    {
     "data": {
      "image/png": "[encoded data removed]",
      "text/plain": [
       "<matplotlib.figure.Figure at 0xba2deb8>"
      ]
     },
     "metadata": {},
     "output_type": "display_data"
    }
   ],
   "source": [
    "##Plotting percentages of people belonging to the first, second, third class who did/did not survive\n",
    "##Plotting percentages of people belonging to the first, second, third class who did/did not survive\n",
    "import numpy as np\n",
    "import matplotlib.pyplot as plt\n",
    "\n",
    "N = 3\n",
    "survivedMeans = (num_1class_survived, num_2class_survived, num_3class_survived)\n",
    "notsurvivedMeans = ((num_1class - num_1class_survived), (num_2class - num_2class_survived), (num_3class - num_3class_survived))\n",
    "\n",
    "ind = np.arange(N)    # the x locations for the groups\n",
    "width = 0.35       # the width of the bars: can also be len(x) sequence\n",
    "\n",
    "p1 = plt.bar(ind, survivedMeans, width, color='y')\n",
    "p2 = plt.bar(ind, notsurvivedMeans, width, color='b', bottom=survivedMeans)\n",
    "\n",
    "plt.ylabel('Number of Passengers')\n",
    "plt.title('Survival Stats by Class')\n",
    "plt.xticks(ind + width/2, ('1st Class', '2nd Class', '3rd Class'))\n",
    "plt.yticks(np.arange(0, 800, 50))\n",
    "plt.legend((p1[0], p2[0]), ('Survived', 'Did Not Survive'))\n",
    "\n",
    "plt.show()\n"
   ]
  },
  {
   "cell_type": "markdown",
   "metadata": {},
   "source": [
    "It is evident from the plot that the percentage of surviving 1st class passengers was greater than those of 2nd and 3rd class. This probably resulted from a bias given to passengers belonging to higher socio-economic classes during the boarding of the rescue boats. The most affected were the 3rd class passengers with a survival rate of less than 1 out of 4."
   ]
  },
  {
   "cell_type": "markdown",
   "metadata": {},
   "source": [
    "# (3)Did being a women passenger of a higher socio-economic status increase a passenger's chances of survival?¶\n"
   ]
  },
  {
   "cell_type": "code",
   "execution_count": 18,
   "metadata": {
    "collapsed": false
   },
   "outputs": [
    {
     "name": "stdout",
     "output_type": "stream",
     "text": [
      "% of surviving 1st Class Females = 96.81 %\n",
      "% of surviving 1st Class Males = 36.89 %\n",
      "% of surviving 2nd Class Females = 92.11 %\n",
      "% of surviving 2nd Class Males = 15.74 %\n",
      "% of surviving 3rd Class Females = 50.0 %\n",
      "% of surviving 3rd Class Males = 13.54 %\n"
     ]
    }
   ],
   "source": [
    "## Finding number of males and females belonging to different classes \n",
    "class1_females = len(passengerinfo[(passengerinfo['Pclass'] ==1) & (passengerinfo['Sex'] == \"female\")])\n",
    "class1_males = len(passengerinfo[(passengerinfo['Pclass'] ==1) & (passengerinfo['Sex'] == \"male\")])\n",
    "class2_females = len(passengerinfo[(passengerinfo['Pclass'] ==2) & (passengerinfo['Sex'] == \"female\")])\n",
    "class2_males = len(passengerinfo[(passengerinfo['Pclass'] ==2) & (passengerinfo['Sex'] == \"male\")])\n",
    "class3_females = len(passengerinfo[(passengerinfo['Pclass'] ==3) & (passengerinfo['Sex'] == \"female\")])\n",
    "class3_males = len(passengerinfo[(passengerinfo['Pclass'] ==3) & (passengerinfo['Sex'] == \"male\")])\n",
    "\n",
    "surviving_class1_females = len(passengerinfo[(passengerinfo['Pclass'] == 1) & (passengerinfo['Survived'] == 1) & (passengerinfo['Sex']==\"female\")])\n",
    "surviving_class1_males = len(passengerinfo[(passengerinfo['Pclass'] == 1) & (passengerinfo['Survived'] == 1) & (passengerinfo['Sex']==\"male\")])\n",
    "surviving_class2_females = len(passengerinfo[(passengerinfo['Pclass'] == 2) & (passengerinfo['Survived'] == 1) & (passengerinfo['Sex']==\"female\")])\n",
    "surviving_class2_males = len(passengerinfo[(passengerinfo['Pclass'] == 2) & (passengerinfo['Survived'] == 1) & (passengerinfo['Sex']==\"male\")])\n",
    "surviving_class3_females = len(passengerinfo[(passengerinfo['Pclass'] == 3) & (passengerinfo['Survived'] == 1) & (passengerinfo['Sex']==\"female\")])\n",
    "surviving_class3_males = len(passengerinfo[(passengerinfo['Pclass'] == 3) & (passengerinfo['Survived'] == 1) & (passengerinfo['Sex']==\"male\")])\n",
    "\n",
    "## Finding percentages of males and females belonging to different classes \n",
    "percent_class1_females = surviving_class1_females*1.0/class1_females*100\n",
    "percent_class1_males = surviving_class1_males*1.0/class1_males*100\n",
    "percent_class2_females = surviving_class2_females*1.0/class2_females*100\n",
    "percent_class2_males = surviving_class2_males*1.0/class2_males*100\n",
    "percent_class3_females = surviving_class3_females*1.0/class3_females*100\n",
    "percent_class3_males = surviving_class3_males*1.0/class3_males*100\n",
    "\n",
    "print '{} = {} %'.format('% of surviving 1st Class Females', np.around(percent_class1_females, decimals=2))\n",
    "print '{} = {} %'.format('% of surviving 1st Class Males', np.around(percent_class1_males, decimals=2))\n",
    "print '{} = {} %'.format('% of surviving 2nd Class Females', np.around(percent_class2_females, decimals=2))\n",
    "print '{} = {} %'.format('% of surviving 2nd Class Males', np.around(percent_class2_males, decimals=2))\n",
    "print '{} = {} %'.format('% of surviving 3rd Class Females', np.around(percent_class3_females, decimals=2))\n",
    "print '{} = {} %'.format('% of surviving 3rd Class Males', np.around(percent_class3_males, decimals=2))"
   ]
  },
  {
   "cell_type": "code",
   "execution_count": 19,
   "metadata": {
    "collapsed": false
   },
   "outputs": [
    {
     "name": "stdout",
     "output_type": "stream",
     "text": [
      "Populating the interactive namespace from numpy and matplotlib\n"
     ]
    },
    {
     "name": "stderr",
     "output_type": "stream",
     "text": [
      "C:\\Users\\abc\\Anaconda2\\lib\\site-packages\\IPython\\core\\magics\\pylab.py:161: UserWarning: pylab import has clobbered these variables: ['f']\n",
      "`%matplotlib` prevents importing * from pylab and numpy\n",
      "  \"\\n`%matplotlib` prevents importing * from pylab and numpy\"\n"
     ]
    },
    {
     "data": {
      "image/png": "[encoded data removed]",
      "text/plain": [
       "<matplotlib.figure.Figure at 0xbc52e10>"
      ]
     },
     "metadata": {},
     "output_type": "display_data"
    }
   ],
   "source": [
    "## Plotting percentages of males, females belonging to different classes \n",
    "import numpy as np\n",
    "import matplotlib.pyplot as plt\n",
    "%pylab inline\n",
    "\n",
    "\n",
    "n_groups = 3\n",
    "means_men = (percent_class1_males, percent_class2_males, percent_class3_males)\n",
    "means_women = (percent_class1_females, percent_class2_females, percent_class3_females)\n",
    "\n",
    "\n",
    "fig, ax = plt.subplots()\n",
    "index = np.arange(n_groups)\n",
    "bar_width = 0.35\n",
    "opacity = 0.7\n",
    "error_config = {'ecolor': '0.3'}\n",
    "\n",
    "rects1 = plt.bar(index, means_men, bar_width,\n",
    "                 alpha=opacity,\n",
    "                 color='y',\n",
    "                 yerr=0,\n",
    "                 error_kw=error_config,\n",
    "                 label='Men')\n",
    "rects2 = plt.bar(index + bar_width, means_women, bar_width,\n",
    "                 alpha=opacity,\n",
    "                 color='g',\n",
    "                 yerr=0,\n",
    "                 error_kw=error_config,\n",
    "                 label='Women')\n",
    "\n",
    "plt.xlabel('Classes')\n",
    "plt.ylabel('Percentages')\n",
    "plt.title('Percentage Of Men And Women Who Survived')\n",
    "plt.xticks(index + bar_width, ('First Class', 'Second Class', 'Third Class'))\n",
    "plt.legend()\n",
    "\n",
    "plt.tight_layout()\n",
    "plt.show()"
   ]
  },
  {
   "cell_type": "markdown",
   "metadata": {},
   "source": [
    "From here, we can conclude % 1st Class Women Survivors > % 2nd Class Women Survivors > % 3rd Class Women Survivors , and % 1st Class Men Survivors > % 2nd Class Men Survivors > % 3rd Class Men Survivors\n"
   ]
  },
  {
   "cell_type": "markdown",
   "metadata": {},
   "source": [
    "# (4)Did travelling with family/companion affect a passenger's survival?\n"
   ]
  },
  {
   "cell_type": "code",
   "execution_count": 20,
   "metadata": {
    "collapsed": false
   },
   "outputs": [
    {
     "name": "stdout",
     "output_type": "stream",
     "text": [
      "Survival % Of Passengers travelling with company = 50.56 %\n",
      "Survival % Of Passengers travelling alone = 30.35 %\n"
     ]
    }
   ],
   "source": [
    "## Number of passengers who were travelling with a companion/family\n",
    "not_alone = (passengerinfo[(passengerinfo['SibSp']>0) | (passengerinfo['Parch']>0)])\n",
    "\n",
    "## Number of passengers who were travelling alone\n",
    "alone = (passengerinfo[(passengerinfo['SibSp']==0) & (passengerinfo['Parch']==0)])\n",
    "\n",
    "not_alone_survived = (passengerinfo[((passengerinfo['SibSp']>0) | (passengerinfo['Parch']>0)) & passengerinfo['Survived']])\n",
    "alone_survived = (passengerinfo[((passengerinfo['SibSp']==0) & (passengerinfo['Parch']==0)) & passengerinfo['Survived']])\n",
    "\n",
    "## Percentages of passengers who were travelling alone/with company who survived/did not survive\n",
    "percent_not_alone_survived = len(not_alone_survived)* 1.0/len(not_alone)*100\n",
    "percent_alone_survived = len(alone_survived)* 1.0/len(alone)*100\n",
    "\n",
    "print '{} = {} %'.format('Survival % Of Passengers travelling with company', np.around(percent_not_alone_survived, decimals=2))\n",
    "print '{} = {} %'.format('Survival % Of Passengers travelling alone', np.around(percent_alone_survived, decimals=2))"
   ]
  },
  {
   "cell_type": "code",
   "execution_count": 21,
   "metadata": {
    "collapsed": false
   },
   "outputs": [
    {
     "name": "stdout",
     "output_type": "stream",
     "text": [
      "Populating the interactive namespace from numpy and matplotlib\n"
     ]
    },
    {
     "data": {
      "image/png": "[encoded data removed]",
      "text/plain": [
       "<matplotlib.figure.Figure at 0x5a7c278>"
      ]
     },
     "metadata": {},
     "output_type": "display_data"
    }
   ],
   "source": [
    "## Function to plot a graph of input alone and not alone\n",
    "import seaborn as sns\n",
    "import numpy as np\n",
    "import matplotlib.pyplot as plt\n",
    "%pylab inline\n",
    "\n",
    "\n",
    "n_groups = 1\n",
    "d=np.arange(0, 70, 10)\n",
    "means_men = (percent_alone_survived)\n",
    "means_women = (percent_not_alone_survived)\n",
    "fig, ax = plt.subplots()\n",
    "index = np.arange(n_groups)\n",
    "bar_width = 0.3\n",
    "opacity = 0.7\n",
    "error_config = {'ecolor': '0.3'}\n",
    "\n",
    "rects1 = plt.bar(index, means_men, bar_width,\n",
    "                     alpha=opacity,\n",
    "                     color='black',\n",
    "                     yerr=0,\n",
    "                     error_kw=error_config,\n",
    "                     label='Alone')\n",
    "\n",
    "rects2 = plt.bar(index +0.5 + bar_width, means_women, bar_width,\n",
    "                     alpha=opacity,\n",
    "                     color='red',\n",
    "                     yerr=0,\n",
    "                     error_kw=error_config,\n",
    "                     label='Not Alone')\n",
    "\n",
    "plt.xlabel('')\n",
    "plt.ylabel('Percentages')\n",
    "plt.title('Percentage of Survivors')\n",
    "plt.xticks(index + bar_width, (''))\n",
    "plt.legend()\n",
    "plt.yticks(d)\n",
    "plt.tight_layout()\n",
    "plt.show()\n",
    "    "
   ]
  },
  {
   "cell_type": "markdown",
   "metadata": {},
   "source": [
    "Clearly, passengers who travelled with family or a companion had a higher chance of survival than those who travelled alone. Travelling with someone who could help you to safety would definitely weigh in favour of those travelling with company.\n"
   ]
  },
  {
   "cell_type": "markdown",
   "metadata": {},
   "source": [
    "# (5)What role did a passenger's age play in his/her survival?\n"
   ]
  },
  {
   "cell_type": "code",
   "execution_count": 22,
   "metadata": {
    "collapsed": false
   },
   "outputs": [
    {
     "name": "stdout",
     "output_type": "stream",
     "text": [
      "No. of children = 113\n",
      "No. of adults = 575\n",
      "No. of elderly = 26\n",
      "No of children who survived = 61\n",
      "No of adult who survived = 222\n",
      "No of elderly who survived = 7\n",
      "% of children who survived = 53.982300885\n",
      "% of adult who survived = 38.6086956522\n",
      "% of elderly who survived = 26.9230769231\n"
     ]
    }
   ],
   "source": [
    "## Finding the number of children , adults and elderly who survived\n",
    "no_of_children=len(passengerinfo[passengerinfo['Age'] < 18])\n",
    "no_of_adults=len(passengerinfo[(passengerinfo['Age'] >= 18) & (passengerinfo['Age'] <60 )])\n",
    "no_of_elderly=len(passengerinfo[passengerinfo['Age'] >= 60])\n",
    "\n",
    "print'{} = {}'.format('No. of children',no_of_children)\n",
    "print'{} = {}'.format('No. of adults',no_of_adults)\n",
    "print'{} = {}'.format('No. of elderly',no_of_elderly)\n",
    "\n",
    "#Finding people who survived according to age group\n",
    "\n",
    "no_children_survived=len(passengerinfo[(passengerinfo['Age']<18) & (passengerinfo['Survived'] == 1)])\n",
    "no_adult_survived=len(passengerinfo[(passengerinfo['Age'] >= 18) & (passengerinfo['Age'] <60 ) & (passengerinfo['Survived'] == 1)])\n",
    "no_elderly_survived=len(passengerinfo[(passengerinfo['Age'] >= 60) & (passengerinfo['Survived'] == 1)])\n",
    "\n",
    "print'{} = {}'.format('No of children who survived',no_children_survived)\n",
    "print'{} = {}'.format('No of adult who survived',no_adult_survived)\n",
    "print'{} = {}'.format('No of elderly who survived',no_elderly_survived)\n",
    "\n",
    "##Finding percentages of children and adults who survived\n",
    "percent_children_who_survived=calculate_percentage(no_children_survived,no_of_children)*100\n",
    "percent_adult_who_survived=calculate_percentage(no_adult_survived,no_of_adults)*100\n",
    "percent_elderly_who_survived=calculate_percentage(no_elderly_survived,no_of_elderly)*100\n",
    "\n",
    "\n",
    "\n",
    "print'{} = {}'.format('% of children who survived',percent_children_who_survived)\n",
    "print'{} = {}'.format('% of adult who survived',percent_adult_who_survived)\n",
    "print'{} = {}'.format('% of elderly who survived',percent_elderly_who_survived)\n",
    "\n",
    "\n",
    "                 \n",
    "\n",
    "                               "
   ]
  },
  {
   "cell_type": "code",
   "execution_count": 23,
   "metadata": {
    "collapsed": false
   },
   "outputs": [
    {
     "data": {
      "image/png": "[encoded data removed]",
      "text/plain": [
       "<matplotlib.figure.Figure at 0xc0ee518>"
      ]
     },
     "metadata": {},
     "output_type": "display_data"
    }
   ],
   "source": [
    "n_groups = 1\n",
    "d=np.arange(0, 70, 10)\n",
    "means_children = (percent_children_who_survived)\n",
    "means_adult = (percent_adult_who_survived)\n",
    "means_elderly= (percent_elderly_who_survived)\n",
    "fig, ax = plt.subplots()\n",
    "index = np.arange(n_groups)\n",
    "bar_width = 0.3\n",
    "opacity = 0.7\n",
    "error_config = {'ecolor': '0.3'}\n",
    "\n",
    "rects1 = plt.bar(index, means_children, bar_width,\n",
    "                     alpha=opacity,\n",
    "                     color='red',\n",
    "                     yerr=0,\n",
    "                     error_kw=error_config,\n",
    "                     label='Children')\n",
    "\n",
    "rects2 = plt.bar(index + 0.2 + bar_width, means_adult, bar_width,\n",
    "                     alpha=opacity,\n",
    "                     color='blue',\n",
    "                     yerr=0,\n",
    "                     error_kw=error_config,\n",
    "                     label='Adult')\n",
    "rects2 = plt.bar(index +0.7 + bar_width, means_elderly, bar_width,\n",
    "                     alpha=opacity,\n",
    "                     color='green',\n",
    "                     yerr=0,\n",
    "                     error_kw=error_config,\n",
    "                     label='Elderly')\n",
    "\n",
    "\n",
    "plt.xlabel('')\n",
    "plt.ylabel('Percentages')\n",
    "plt.title('% Of Surviving Children , Adults and Elderly')\n",
    "plt.xticks(index + bar_width, (''))\n",
    "plt.legend()\n",
    "plt.yticks(d)\n",
    "plt.tight_layout()\n",
    "plt.show()"
   ]
  },
  {
   "cell_type": "markdown",
   "metadata": {
    "collapsed": true
   },
   "source": [
    "From these stats, it is evident that more percentage of children (age < 18) survived this disaster than adults and elderly. This might also result from the fact that ladies and children were the first to be evacuated in lifeboats when the ship started sinking.\n"
   ]
  },
  {
   "cell_type": "markdown",
   "metadata": {},
   "source": [
    "**Conclusion**  \n",
    "(i) The no. of surviving females (74.20%) far exceeded the no. of surviving males (18.89%) aboard RMS Titanic.  \n",
    "(ii) Similarly, the no. of children surviving the disaster (53.98%) significantly exceeded the no. of adults and elderly (38.10%).  \n",
    "(iii) Significantly more 1st Class passengers (62.96%) survived compared to 2nd Class (47.28%) and 3rd Class (24.24%) passengers.  \n",
    "(iv) Passengers travelling with company had a higher survival rate (50.56%) than those who were travelling alone (30.35%)."
   ]
  },
  {
   "cell_type": "markdown",
   "metadata": {},
   "source": [
    "**References **\n",
    "\n",
    "https://www.kaggle.com/c/titanic/data https://en.wikipedia.org/wiki/Women_and_children_first http://pbpython.com/simple-graphing-pandas.html http://pandas.pydata.org/pandas-docs/stable/visualization.html"
   ]
  },
  {
   "cell_type": "code",
   "execution_count": null,
   "metadata": {
    "collapsed": true
   },
   "outputs": [],
   "source": []
  }
 ],
 "metadata": {
  "anaconda-cloud": {},
  "kernelspec": {
   "display_name": "Python [default]",
   "language": "python",
   "name": "python2"
  },
  "language_info": {
   "codemirror_mode": {
    "name": "ipython",
    "version": 2
   },
   "file_extension": ".py",
   "mimetype": "text/x-python",
   "name": "python",
   "nbconvert_exporter": "python",
   "pygments_lexer": "ipython2",
   "version": "2.7.13"
  },
  "nbpresent": {
   "slides": {},
   "themes": {
    "default": "757447ff-54b3-4b39-901c-8cf202b3507e",
    "theme": {}
   }
  }
 },
 "nbformat": 4,
 "nbformat_minor": 2
}
